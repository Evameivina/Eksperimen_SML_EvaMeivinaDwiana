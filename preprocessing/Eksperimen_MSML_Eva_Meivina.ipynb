{
 "cells": [
  {
   "cell_type": "markdown",
   "metadata": {
    "id": "kZLRMFl0JyyQ"
   },
   "source": [
    "# **1. Perkenalan Dataset**\n"
   ]
  },
  {
   "cell_type": "markdown",
   "metadata": {
    "id": "hssSDn-5n3HR"
   },
   "source": [
    "Tahap pertama, Anda harus mencari dan menggunakan dataset dengan ketentuan sebagai berikut:\n",
    "\n",
    "1. **Sumber Dataset**:  \n",
    "   Dataset dapat diperoleh dari berbagai sumber, seperti public repositories (*Kaggle*, *UCI ML Repository*, *Open Data*) atau data primer yang Anda kumpulkan sendiri.\n"
   ]
  },
  {
   "cell_type": "markdown",
   "metadata": {
    "id": "fKADPWcFKlj3"
   },
   "source": [
    "# **2. Import Library**"
   ]
  },
  {
   "cell_type": "markdown",
   "metadata": {
    "id": "LgA3ERnVn84N"
   },
   "source": [
    "Pada tahap ini, Anda perlu mengimpor beberapa pustaka (library) Python yang dibutuhkan untuk analisis data dan pembangunan model machine learning atau deep learning."
   ]
  },
  {
   "cell_type": "code",
   "execution_count": null,
   "metadata": {
    "id": "BlmvjLY9M4Yj"
   },
   "outputs": [],
   "source": [
    "# Import Library\n",
    "import pandas as pd\n",
    "import matplotlib.pyplot as plt\n",
    "import seaborn as sns\n",
    "\n",
    "from google.colab import drive\n",
    "from sklearn.preprocessing import StandardScaler\n",
    "from sklearn.preprocessing import OneHotEncoder\n",
    "from sklearn.compose import ColumnTransformer"
   ]
  },
  {
   "cell_type": "markdown",
   "metadata": {
    "id": "f3YIEnAFKrKL"
   },
   "source": [
    "# **3. Memuat Dataset**"
   ]
  },
  {
   "cell_type": "markdown",
   "metadata": {
    "id": "Ey3ItwTen_7E"
   },
   "source": [
    "Pada tahap ini, Anda perlu memuat dataset ke dalam notebook. Jika dataset dalam format CSV, Anda bisa menggunakan pustaka pandas untuk membacanya. Pastikan untuk mengecek beberapa baris awal dataset untuk memahami strukturnya dan memastikan data telah dimuat dengan benar.\n",
    "\n",
    "Jika dataset berada di Google Drive, pastikan Anda menghubungkan Google Drive ke Colab terlebih dahulu. Setelah dataset berhasil dimuat, langkah berikutnya adalah memeriksa kesesuaian data dan siap untuk dianalisis lebih lanjut.\n",
    "\n",
    "Jika dataset berupa unstructured data, silakan sesuaikan dengan format seperti kelas Machine Learning Pengembangan atau Machine Learning Terapan"
   ]
  },
  {
   "cell_type": "code",
   "execution_count": null,
   "metadata": {
    "colab": {
     "base_uri": "https://localhost:8080/"
    },
    "id": "GHCGNTyrM5fS",
    "outputId": "9f447a7f-1e0e-45fe-a52e-eee4d4d4c848"
   },
   "outputs": [],
   "source": [
    "# Menghubungkan Google Drive\n",
    "drive.mount('/content/drive')"
   ]
  },
  {
   "cell_type": "code",
   "execution_count": null,
   "metadata": {
    "id": "cI8FD_XX6W93"
   },
   "outputs": [],
   "source": [
    "path = '/content/drive/MyDrive/Submission MSML/StudentsPerformance.csv'"
   ]
  },
  {
   "cell_type": "code",
   "execution_count": null,
   "metadata": {
    "colab": {
     "base_uri": "https://localhost:8080/",
     "height": 348
    },
    "id": "IzSy3hGS6XE1",
    "outputId": "702de2bc-e04d-4e5f-dacf-aa763a193bd8"
   },
   "outputs": [],
   "source": [
    "# Membaca Dataset (Pandas)\n",
    "data = pd.read_csv(path)\n",
    "\n",
    "# Menampilkan 5 baris pertama\n",
    "data.head()"
   ]
  },
  {
   "cell_type": "markdown",
   "metadata": {
    "id": "bgZkbJLpK9UR"
   },
   "source": [
    "# **4. Exploratory Data Analysis (EDA)**\n",
    "\n",
    "Pada tahap ini, Anda akan melakukan **Exploratory Data Analysis (EDA)** untuk memahami karakteristik dataset.\n",
    "\n",
    "Tujuan dari EDA adalah untuk memperoleh wawasan awal yang mendalam mengenai data dan menentukan langkah selanjutnya dalam analisis atau pemodelan."
   ]
  },
  {
   "cell_type": "code",
   "execution_count": null,
   "metadata": {
    "colab": {
     "base_uri": "https://localhost:8080/"
    },
    "id": "WVUkKx0t6XPw",
    "outputId": "0830212b-948d-484e-cccd-c0f063a5a104"
   },
   "outputs": [],
   "source": [
    "# Mengecek Ukuran Dataset\n",
    "print(\"Jumlah baris dan kolom:\", data.shape)"
   ]
  },
  {
   "cell_type": "code",
   "execution_count": null,
   "metadata": {
    "colab": {
     "base_uri": "https://localhost:8080/"
    },
    "id": "9HNkmF021H9w",
    "outputId": "79a0b980-dcac-471d-c738-93b28d17dda6"
   },
   "outputs": [],
   "source": [
    "# Mengecek Data Duplikat\n",
    "duplicate_rows = data[data.duplicated()]\n",
    "\n",
    "print(\"Jumlah data duplikat:\", duplicate_rows.shape[0])"
   ]
  },
  {
   "cell_type": "code",
   "execution_count": null,
   "metadata": {
    "colab": {
     "base_uri": "https://localhost:8080/"
    },
    "id": "zoW-wy_U72pZ",
    "outputId": "353b7594-d692-4008-a75a-94b5cf060205"
   },
   "outputs": [],
   "source": [
    "# Mengecek Missing Values\n",
    "print(\"Jumlah missing values\", data.isnull().sum())"
   ]
  },
  {
   "cell_type": "code",
   "execution_count": null,
   "metadata": {
    "colab": {
     "base_uri": "https://localhost:8080/"
    },
    "id": "ayJpLKjm6XIR",
    "outputId": "1f512f46-5cfe-4877-d720-f17b69d2d306"
   },
   "outputs": [],
   "source": [
    "# Mengecek Struktur Data\n",
    "data.info()"
   ]
  },
  {
   "cell_type": "code",
   "execution_count": null,
   "metadata": {
    "colab": {
     "base_uri": "https://localhost:8080/",
     "height": 300
    },
    "id": "MEDct2DySh5Z",
    "outputId": "e0407f89-b8ed-45a6-f5ae-4e517d9fb0fd"
   },
   "outputs": [],
   "source": [
    "# Statistik Deskriptif\n",
    "data.describe()"
   ]
  },
  {
   "cell_type": "code",
   "execution_count": null,
   "metadata": {
    "colab": {
     "base_uri": "https://localhost:8080/"
    },
    "id": "O_fqI4W7T0NH",
    "outputId": "dedbfc1c-ac94-4175-f424-8718e8d4327f"
   },
   "outputs": [],
   "source": [
    "# Mengganti 0 dengan median\n",
    "data['math score'] = data['math score'].replace(0, data['math score'].median())\n",
    "print(\"math score 0 diganti median\")"
   ]
  },
  {
   "cell_type": "code",
   "execution_count": null,
   "metadata": {
    "colab": {
     "base_uri": "https://localhost:8080/",
     "height": 1000
    },
    "id": "rMpObIRnVBfA",
    "outputId": "d116570d-6565-4838-f08b-c7ae641011b5"
   },
   "outputs": [],
   "source": [
    "# Visualisasi Distribusi\n",
    "numerical_cols = ['math score', 'reading score', 'writing score']\n",
    "\n",
    "for col in numerical_cols:\n",
    "    plt.figure(figsize=(6,4))\n",
    "    sns.histplot(data[col], bins=20, kde=True)\n",
    "    plt.title(f'Distribusi {col}')\n",
    "    plt.show()"
   ]
  },
  {
   "cell_type": "code",
   "execution_count": null,
   "metadata": {
    "colab": {
     "base_uri": "https://localhost:8080/",
     "height": 1000
    },
    "id": "DCmZYwKQWGio",
    "outputId": "993063bb-e81c-4e1c-b755-15f8cab24615"
   },
   "outputs": [],
   "source": [
    "for col in numerical_cols:\n",
    "    plt.figure(figsize=(6,4))\n",
    "    sns.boxplot(x=data[col])\n",
    "    plt.title(f'Boxplot {col}')\n",
    "    plt.show()\n"
   ]
  },
  {
   "cell_type": "code",
   "execution_count": null,
   "metadata": {
    "colab": {
     "base_uri": "https://localhost:8080/",
     "height": 468
    },
    "id": "ykqqjEaG0AYG",
    "outputId": "86d99aca-168b-4c20-8126-c158610df883"
   },
   "outputs": [],
   "source": [
    "# Korelasi antar skor\n",
    "plt.figure(figsize=(6,5))\n",
    "sns.heatmap(data[numerical_cols].corr(), annot=True, cmap='coolwarm')\n",
    "plt.title('Korelasi Antar Skor')\n",
    "plt.show()"
   ]
  },
  {
   "cell_type": "markdown",
   "metadata": {
    "id": "cpgHfgnSK3ip"
   },
   "source": [
    "# **5. Data Preprocessing**"
   ]
  },
  {
   "cell_type": "markdown",
   "metadata": {
    "id": "COf8KUPXLg5r"
   },
   "source": [
    "Pada tahap ini, data preprocessing adalah langkah penting untuk memastikan kualitas data sebelum digunakan dalam model machine learning.\n",
    "\n",
    "Jika Anda menggunakan data teks, data mentah sering kali mengandung nilai kosong, duplikasi, atau rentang nilai yang tidak konsisten, yang dapat memengaruhi kinerja model. Oleh karena itu, proses ini bertujuan untuk membersihkan dan mempersiapkan data agar analisis berjalan optimal.\n",
    "\n",
    "Berikut adalah tahapan-tahapan yang bisa dilakukan, tetapi **tidak terbatas** pada:\n",
    "1. Menghapus atau Menangani Data Kosong (Missing Values)\n",
    "2. Menghapus Data Duplikat\n",
    "3. Normalisasi atau Standarisasi Fitur\n",
    "4. Deteksi dan Penanganan Outlier\n",
    "5. Encoding Data Kategorikal\n",
    "6. Binning (Pengelompokan Data)\n",
    "\n",
    "Cukup sesuaikan dengan karakteristik data yang kamu gunakan yah. Khususnya ketika kami menggunakan data tidak terstruktur."
   ]
  },
  {
   "cell_type": "code",
   "execution_count": null,
   "metadata": {
    "id": "Og8pGV0-iDLz"
   },
   "outputs": [],
   "source": [
    "# Kolom Numerik & Kategorikal\n",
    "numerical_cols = ['math score', 'reading score', 'writing score']\n",
    "categorical_cols = ['gender', 'race/ethnicity', 'parental level of education', 'lunch', 'test preparation course']"
   ]
  },
  {
   "cell_type": "code",
   "execution_count": null,
   "metadata": {
    "id": "iiRb7DAD5A20"
   },
   "outputs": [],
   "source": [
    "# Scaling\n",
    "scaler = StandardScaler()"
   ]
  },
  {
   "cell_type": "code",
   "execution_count": null,
   "metadata": {
    "id": "bba5LF1b5MSr"
   },
   "outputs": [],
   "source": [
    "# Encoding Kategorikal\n",
    "encoder = OneHotEncoder(sparse_output=False, drop='first')"
   ]
  },
  {
   "cell_type": "code",
   "execution_count": null,
   "metadata": {
    "id": "ivpYl3in5oDS"
   },
   "outputs": [],
   "source": [
    "# Column Transformer\n",
    "preprocessor = ColumnTransformer(\n",
    "    transformers=[\n",
    "        ('num', scaler, numerical_cols),\n",
    "        ('cat', encoder, categorical_cols)\n",
    "    ]\n",
    ")"
   ]
  },
  {
   "cell_type": "code",
   "execution_count": null,
   "metadata": {
    "id": "whL618mo52ZH"
   },
   "outputs": [],
   "source": [
    "# Preprocessing Data\n",
    "data_preprocessed = preprocessor.fit_transform(data)"
   ]
  },
  {
   "cell_type": "code",
   "execution_count": null,
   "metadata": {
    "id": "4suRHyHpohh_"
   },
   "outputs": [],
   "source": [
    "# Membuat DataFrame Hasil Preprocessing\n",
    "\n",
    "# Mengambil nama kolom hasil encoding\n",
    "encoded_cols = preprocessor.named_transformers_['cat'].get_feature_names_out(categorical_cols)\n",
    "\n",
    "# Menggabungkan nama kolom numerik & encoded\n",
    "all_cols = numerical_cols + list(encoded_cols)\n",
    "\n",
    "# Membuat DataFrame\n",
    "df_preprocessed = pd.DataFrame(data_preprocessed, columns=all_cols)"
   ]
  },
  {
   "cell_type": "code",
   "execution_count": null,
   "metadata": {
    "colab": {
     "base_uri": "https://localhost:8080/",
     "height": 1000
    },
    "id": "QTf7k9QbolCb",
    "outputId": "4cf13d75-c2d4-4c83-802d-f5c427d3e173"
   },
   "outputs": [],
   "source": [
    "# Pengecekan Outlier\n",
    "for col in numerical_cols:\n",
    "    plt.figure(figsize=(6,4))\n",
    "    sns.boxplot(x=df_preprocessed[col])\n",
    "    plt.title(f'Boxplot {col} Setelah Preprocessing')\n",
    "    plt.show()"
   ]
  },
  {
   "cell_type": "code",
   "execution_count": null,
   "metadata": {
    "colab": {
     "base_uri": "https://localhost:8080/",
     "height": 278
    },
    "id": "l8EPtgvhom6A",
    "outputId": "983804fa-433d-46f0-bab2-841d37aa26ee"
   },
   "outputs": [],
   "source": [
    "# Tampilkan 5 baris pertama\n",
    "df_preprocessed.head()"
   ]
  },
  {
   "cell_type": "code",
   "execution_count": null,
   "metadata": {
    "id": "b4WMZ6MNoqV1"
   },
   "outputs": [],
   "source": []
  }
 ],
 "metadata": {
  "accelerator": "GPU",
  "colab": {
   "gpuType": "T4",
   "provenance": []
  },
  "kernelspec": {
   "display_name": "Python 3",
   "name": "python3"
  },
  "language_info": {
   "name": "python"
  }
 },
 "nbformat": 4,
 "nbformat_minor": 0
}
